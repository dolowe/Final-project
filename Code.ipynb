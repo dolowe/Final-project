{
 "cells": [
  {
   "cell_type": "markdown",
   "id": "f2ca2a84",
   "metadata": {},
   "source": [
    "1.0 Import Libraries"
   ]
  },
  {
   "cell_type": "code",
   "execution_count": 1,
   "id": "30c3649b",
   "metadata": {},
   "outputs": [],
   "source": [
    "import pandas as pd\n",
    "import numpy as np\n",
    "import seaborn as sns\n",
    "import matplotlib.pyplot as plt\n",
    "%matplotlib inline\n",
    "from sklearn.preprocessing import StandardScaler\n",
    "from sklearn.linear_model import LinearRegression\n",
    "from sklearn.metrics import classification_report\n",
    "from sklearn.metrics import mean_squared_error\n",
    "from sklearn.decomposition import PCA"
   ]
  },
  {
   "cell_type": "markdown",
   "id": "0d99b6e5",
   "metadata": {},
   "source": [
    "2.0 Import Database\n"
   ]
  },
  {
   "cell_type": "code",
   "execution_count": 2,
   "id": "8cca9b80",
   "metadata": {},
   "outputs": [],
   "source": [
    "df = pd.read_excel(r'C:\\Users\\dodol\\Downloads\\IAC_Database\\IAC_Database3.xls', sheet_name = 'ASSESS')\n",
    "df_train = df.copy()"
   ]
  },
  {
   "cell_type": "markdown",
   "id": "c4bce26e",
   "metadata": {},
   "source": [
    "3.0 Exploring the Data Set"
   ]
  },
  {
   "cell_type": "code",
   "execution_count": 3,
   "id": "ee442900",
   "metadata": {},
   "outputs": [
    {
     "name": "stdout",
     "output_type": "stream",
     "text": [
      "<class 'pandas.core.frame.DataFrame'>\n",
      "RangeIndex: 2274 entries, 0 to 2273\n",
      "Data columns (total 56 columns):\n",
      " #   Column           Non-Null Count  Dtype  \n",
      "---  ------           --------------  -----  \n",
      " 0   ID               2274 non-null   object \n",
      " 1   CENTER           2274 non-null   object \n",
      " 2   FY               2274 non-null   int64  \n",
      " 3   SIC              2274 non-null   int64  \n",
      " 4   NAICS            2274 non-null   int64  \n",
      " 5   STATE            2274 non-null   object \n",
      " 6   REGION           2274 non-null   object \n",
      " 7   SALES            2274 non-null   int64  \n",
      " 8   EMPLOYEES        2274 non-null   int64  \n",
      " 9   PLANT_AREA       2274 non-null   int64  \n",
      " 10  PRODUCTS         2272 non-null   object \n",
      " 11  PRODUNITS        1581 non-null   float64\n",
      " 12  PRODLEVEL        2253 non-null   float64\n",
      " 13  PRODHOURS        2274 non-null   int64  \n",
      " 14  NUMARS           2274 non-null   int64  \n",
      " 15  EC_plant_cost    2274 non-null   float64\n",
      " 16  EC_plant_usage   2274 non-null   float64\n",
      " 17  ED_plant_cost    2038 non-null   float64\n",
      " 18  ED_plant_usage   2038 non-null   float64\n",
      " 19  EF_plant_cost    1381 non-null   float64\n",
      " 20  E2_plant_cost    1865 non-null   float64\n",
      " 21  E2_plant_usage   1865 non-null   float64\n",
      " 22  E3_plant_cost    116 non-null    float64\n",
      " 23  E3_plant_usage   118 non-null    float64\n",
      " 24  E4_plant_cost    14 non-null     float64\n",
      " 25  E4_plant_usage   14 non-null     float64\n",
      " 26  E5_plant_cost    42 non-null     float64\n",
      " 27  E5_plant_usage   42 non-null     float64\n",
      " 28  E6_plant_cost    5 non-null      float64\n",
      " 29  E6_plant_usage   5 non-null      float64\n",
      " 30  E7_plant_cost    6 non-null      float64\n",
      " 31  E7_plant_usage   6 non-null      float64\n",
      " 32  E8_plant_cost    6 non-null      float64\n",
      " 33  E8_plant_usage   6 non-null      float64\n",
      " 34  E9_plant_cost    42 non-null     float64\n",
      " 35  E9_plant_usage   42 non-null     float64\n",
      " 36  E10_plant_cost   0 non-null      float64\n",
      " 37  E10_plant_usage  0 non-null      float64\n",
      " 38  E11_plant_cost   22 non-null     float64\n",
      " 39  E11_plant_usage  22 non-null     float64\n",
      " 40  E12_plant_cost   26 non-null     float64\n",
      " 41  E12_plant_usage  26 non-null     float64\n",
      " 42  W0_plant_cost    408 non-null    float64\n",
      " 43  W0_plant_usage   408 non-null    float64\n",
      " 44  W1_plant_cost    370 non-null    float64\n",
      " 45  W1_plant_usage   370 non-null    float64\n",
      " 46  W2_plant_cost    82 non-null     float64\n",
      " 47  W2_plant_usage   82 non-null     float64\n",
      " 48  W3_plant_cost    11 non-null     float64\n",
      " 49  W3_plant_usage   11 non-null     float64\n",
      " 50  W4_plant_cost    70 non-null     float64\n",
      " 51  W4_plant_usage   70 non-null     float64\n",
      " 52  W5_plant_cost    6 non-null      float64\n",
      " 53  W5_plant_usage   6 non-null      float64\n",
      " 54  W6_plant_cost    9 non-null      float64\n",
      " 55  W6_plant_usage   9 non-null      float64\n",
      "dtypes: float64(43), int64(8), object(5)\n",
      "memory usage: 995.0+ KB\n"
     ]
    }
   ],
   "source": [
    "#Explore Data Type\n",
    "df_train.info()"
   ]
  },
  {
   "cell_type": "code",
   "execution_count": 4,
   "id": "fa3662c7",
   "metadata": {},
   "outputs": [
    {
     "data": {
      "text/html": [
       "<div>\n",
       "<style scoped>\n",
       "    .dataframe tbody tr th:only-of-type {\n",
       "        vertical-align: middle;\n",
       "    }\n",
       "\n",
       "    .dataframe tbody tr th {\n",
       "        vertical-align: top;\n",
       "    }\n",
       "\n",
       "    .dataframe thead th {\n",
       "        text-align: right;\n",
       "    }\n",
       "</style>\n",
       "<table border=\"1\" class=\"dataframe\">\n",
       "  <thead>\n",
       "    <tr style=\"text-align: right;\">\n",
       "      <th></th>\n",
       "      <th>ID</th>\n",
       "      <th>CENTER</th>\n",
       "      <th>FY</th>\n",
       "      <th>SIC</th>\n",
       "      <th>NAICS</th>\n",
       "      <th>STATE</th>\n",
       "      <th>REGION</th>\n",
       "      <th>SALES</th>\n",
       "      <th>EMPLOYEES</th>\n",
       "      <th>PLANT_AREA</th>\n",
       "      <th>...</th>\n",
       "      <th>W2_plant_cost</th>\n",
       "      <th>W2_plant_usage</th>\n",
       "      <th>W3_plant_cost</th>\n",
       "      <th>W3_plant_usage</th>\n",
       "      <th>W4_plant_cost</th>\n",
       "      <th>W4_plant_usage</th>\n",
       "      <th>W5_plant_cost</th>\n",
       "      <th>W5_plant_usage</th>\n",
       "      <th>W6_plant_cost</th>\n",
       "      <th>W6_plant_usage</th>\n",
       "    </tr>\n",
       "  </thead>\n",
       "  <tbody>\n",
       "    <tr>\n",
       "      <th>0</th>\n",
       "      <td>AM0649</td>\n",
       "      <td>AM</td>\n",
       "      <td>2014</td>\n",
       "      <td>3412</td>\n",
       "      <td>332439</td>\n",
       "      <td>TX</td>\n",
       "      <td>South</td>\n",
       "      <td>40000000</td>\n",
       "      <td>135</td>\n",
       "      <td>350000</td>\n",
       "      <td>...</td>\n",
       "      <td>NaN</td>\n",
       "      <td>NaN</td>\n",
       "      <td>NaN</td>\n",
       "      <td>NaN</td>\n",
       "      <td>NaN</td>\n",
       "      <td>NaN</td>\n",
       "      <td>NaN</td>\n",
       "      <td>NaN</td>\n",
       "      <td>NaN</td>\n",
       "      <td>NaN</td>\n",
       "    </tr>\n",
       "    <tr>\n",
       "      <th>1</th>\n",
       "      <td>AM0650</td>\n",
       "      <td>AM</td>\n",
       "      <td>2014</td>\n",
       "      <td>3495</td>\n",
       "      <td>332613</td>\n",
       "      <td>TX</td>\n",
       "      <td>South</td>\n",
       "      <td>13000000</td>\n",
       "      <td>118</td>\n",
       "      <td>80500</td>\n",
       "      <td>...</td>\n",
       "      <td>NaN</td>\n",
       "      <td>NaN</td>\n",
       "      <td>NaN</td>\n",
       "      <td>NaN</td>\n",
       "      <td>NaN</td>\n",
       "      <td>NaN</td>\n",
       "      <td>NaN</td>\n",
       "      <td>NaN</td>\n",
       "      <td>NaN</td>\n",
       "      <td>NaN</td>\n",
       "    </tr>\n",
       "    <tr>\n",
       "      <th>2</th>\n",
       "      <td>AM0651</td>\n",
       "      <td>AM</td>\n",
       "      <td>2014</td>\n",
       "      <td>2899</td>\n",
       "      <td>325199</td>\n",
       "      <td>TX</td>\n",
       "      <td>South</td>\n",
       "      <td>150000000</td>\n",
       "      <td>260</td>\n",
       "      <td>265000</td>\n",
       "      <td>...</td>\n",
       "      <td>NaN</td>\n",
       "      <td>NaN</td>\n",
       "      <td>NaN</td>\n",
       "      <td>NaN</td>\n",
       "      <td>NaN</td>\n",
       "      <td>NaN</td>\n",
       "      <td>NaN</td>\n",
       "      <td>NaN</td>\n",
       "      <td>NaN</td>\n",
       "      <td>NaN</td>\n",
       "    </tr>\n",
       "    <tr>\n",
       "      <th>3</th>\n",
       "      <td>AM0652</td>\n",
       "      <td>AM</td>\n",
       "      <td>2014</td>\n",
       "      <td>3081</td>\n",
       "      <td>326113</td>\n",
       "      <td>TX</td>\n",
       "      <td>South</td>\n",
       "      <td>95000000</td>\n",
       "      <td>200</td>\n",
       "      <td>149415</td>\n",
       "      <td>...</td>\n",
       "      <td>NaN</td>\n",
       "      <td>NaN</td>\n",
       "      <td>NaN</td>\n",
       "      <td>NaN</td>\n",
       "      <td>NaN</td>\n",
       "      <td>NaN</td>\n",
       "      <td>NaN</td>\n",
       "      <td>NaN</td>\n",
       "      <td>NaN</td>\n",
       "      <td>NaN</td>\n",
       "    </tr>\n",
       "    <tr>\n",
       "      <th>4</th>\n",
       "      <td>AM0653</td>\n",
       "      <td>AM</td>\n",
       "      <td>2014</td>\n",
       "      <td>3321</td>\n",
       "      <td>331511</td>\n",
       "      <td>UT</td>\n",
       "      <td>West</td>\n",
       "      <td>60000000</td>\n",
       "      <td>150</td>\n",
       "      <td>153500</td>\n",
       "      <td>...</td>\n",
       "      <td>51980.0</td>\n",
       "      <td>11500.0</td>\n",
       "      <td>NaN</td>\n",
       "      <td>NaN</td>\n",
       "      <td>NaN</td>\n",
       "      <td>NaN</td>\n",
       "      <td>NaN</td>\n",
       "      <td>NaN</td>\n",
       "      <td>NaN</td>\n",
       "      <td>NaN</td>\n",
       "    </tr>\n",
       "  </tbody>\n",
       "</table>\n",
       "<p>5 rows × 56 columns</p>\n",
       "</div>"
      ],
      "text/plain": [
       "       ID CENTER    FY   SIC   NAICS STATE REGION      SALES  EMPLOYEES  \\\n",
       "0  AM0649     AM  2014  3412  332439    TX  South   40000000        135   \n",
       "1  AM0650     AM  2014  3495  332613    TX  South   13000000        118   \n",
       "2  AM0651     AM  2014  2899  325199    TX  South  150000000        260   \n",
       "3  AM0652     AM  2014  3081  326113    TX  South   95000000        200   \n",
       "4  AM0653     AM  2014  3321  331511    UT   West   60000000        150   \n",
       "\n",
       "   PLANT_AREA  ... W2_plant_cost  W2_plant_usage  W3_plant_cost  \\\n",
       "0      350000  ...           NaN             NaN            NaN   \n",
       "1       80500  ...           NaN             NaN            NaN   \n",
       "2      265000  ...           NaN             NaN            NaN   \n",
       "3      149415  ...           NaN             NaN            NaN   \n",
       "4      153500  ...       51980.0         11500.0            NaN   \n",
       "\n",
       "   W3_plant_usage  W4_plant_cost  W4_plant_usage  W5_plant_cost  \\\n",
       "0             NaN            NaN             NaN            NaN   \n",
       "1             NaN            NaN             NaN            NaN   \n",
       "2             NaN            NaN             NaN            NaN   \n",
       "3             NaN            NaN             NaN            NaN   \n",
       "4             NaN            NaN             NaN            NaN   \n",
       "\n",
       "   W5_plant_usage  W6_plant_cost  W6_plant_usage  \n",
       "0             NaN            NaN             NaN  \n",
       "1             NaN            NaN             NaN  \n",
       "2             NaN            NaN             NaN  \n",
       "3             NaN            NaN             NaN  \n",
       "4             NaN            NaN             NaN  \n",
       "\n",
       "[5 rows x 56 columns]"
      ]
     },
     "execution_count": 4,
     "metadata": {},
     "output_type": "execute_result"
    }
   ],
   "source": [
    "#Show lines / Columns\n",
    "df_train.head()"
   ]
  },
  {
   "cell_type": "code",
   "execution_count": 5,
   "id": "3508363c",
   "metadata": {},
   "outputs": [
    {
     "data": {
      "text/plain": [
       "Wine                                                          16\n",
       "Treated Wastewater                                            13\n",
       "Beer                                                          12\n",
       "Lumber                                                        10\n",
       "Wastewater Treatment                                           9\n",
       "                                                              ..\n",
       "Terpene Resins                                                 1\n",
       "Hydraulic pumps and motors                                     1\n",
       "Orthopedic Prosthetic and Surgical Appliances and Supplies     1\n",
       "Precision Machined Components                                  1\n",
       "Animal Feeds                                                   1\n",
       "Name: PRODUCTS, Length: 1950, dtype: int64"
      ]
     },
     "execution_count": 5,
     "metadata": {},
     "output_type": "execute_result"
    }
   ],
   "source": [
    "#Energy consumption  by Products\n",
    "df_train['PRODUCTS'].value_counts()"
   ]
  },
  {
   "cell_type": "code",
   "execution_count": 6,
   "id": "aafa227e",
   "metadata": {},
   "outputs": [
    {
     "data": {
      "text/plain": [
       "(2274, 56)"
      ]
     },
     "execution_count": 6,
     "metadata": {},
     "output_type": "execute_result"
    }
   ],
   "source": [
    "#Shape of dataframe\n",
    "df_train.shape"
   ]
  },
  {
   "cell_type": "code",
   "execution_count": 7,
   "id": "f36b27db",
   "metadata": {},
   "outputs": [
    {
     "data": {
      "text/plain": [
       "ID                    0\n",
       "CENTER                0\n",
       "FY                    0\n",
       "SIC                   0\n",
       "NAICS                 0\n",
       "STATE                 0\n",
       "REGION                0\n",
       "SALES                 0\n",
       "EMPLOYEES             0\n",
       "PLANT_AREA            0\n",
       "PRODUCTS              2\n",
       "PRODUNITS           693\n",
       "PRODLEVEL            21\n",
       "PRODHOURS             0\n",
       "NUMARS                0\n",
       "EC_plant_cost         0\n",
       "EC_plant_usage        0\n",
       "ED_plant_cost       236\n",
       "ED_plant_usage      236\n",
       "EF_plant_cost       893\n",
       "E2_plant_cost       409\n",
       "E2_plant_usage      409\n",
       "E3_plant_cost      2158\n",
       "E3_plant_usage     2156\n",
       "E4_plant_cost      2260\n",
       "E4_plant_usage     2260\n",
       "E5_plant_cost      2232\n",
       "E5_plant_usage     2232\n",
       "E6_plant_cost      2269\n",
       "E6_plant_usage     2269\n",
       "E7_plant_cost      2268\n",
       "E7_plant_usage     2268\n",
       "E8_plant_cost      2268\n",
       "E8_plant_usage     2268\n",
       "E9_plant_cost      2232\n",
       "E9_plant_usage     2232\n",
       "E10_plant_cost     2274\n",
       "E10_plant_usage    2274\n",
       "E11_plant_cost     2252\n",
       "E11_plant_usage    2252\n",
       "E12_plant_cost     2248\n",
       "E12_plant_usage    2248\n",
       "W0_plant_cost      1866\n",
       "W0_plant_usage     1866\n",
       "W1_plant_cost      1904\n",
       "W1_plant_usage     1904\n",
       "W2_plant_cost      2192\n",
       "W2_plant_usage     2192\n",
       "W3_plant_cost      2263\n",
       "W3_plant_usage     2263\n",
       "W4_plant_cost      2204\n",
       "W4_plant_usage     2204\n",
       "W5_plant_cost      2268\n",
       "W5_plant_usage     2268\n",
       "W6_plant_cost      2265\n",
       "W6_plant_usage     2265\n",
       "dtype: int64"
      ]
     },
     "execution_count": 7,
     "metadata": {},
     "output_type": "execute_result"
    }
   ],
   "source": [
    "#Show Null Values\n",
    "df_train.isna().sum(axis = 0)"
   ]
  },
  {
   "cell_type": "markdown",
   "id": "3bc30b92",
   "metadata": {},
   "source": [
    "Analysis of top consumption"
   ]
  },
  {
   "cell_type": "code",
   "execution_count": 8,
   "id": "f0a6dea6",
   "metadata": {},
   "outputs": [],
   "source": [
    "#Energy consumption  by Product based on info until 2021\n",
    "sector_tot_energy = df_train[df_train[\"FY\"] >= 2014].groupby([\"PRODUCTS\"])[\"EC_plant_usage\"].sum().sort_values(ascending=False).head(10)\n",
    "sector_tot_energy\n",
    "\n",
    "#Total Energy consumption  by year\n",
    "sector_tot_energy_by_year = df_train.groupby([\"FY\"])[\"EC_plant_usage\"].sum().sort_values(ascending=False)\n",
    "\n",
    "\n"
   ]
  },
  {
   "cell_type": "code",
   "execution_count": 9,
   "id": "a656fffa",
   "metadata": {},
   "outputs": [
    {
     "data": {
      "text/plain": [
       "<bound method NDFrame.head of PRODUCTS\n",
       "Containerboard - Paper    424649000.0\n",
       "Aluminum                  406980557.0\n",
       "Rebar and Wire Rod        359713453.0\n",
       "cement                    324509716.0\n",
       "Automobiles               292105926.0\n",
       "Tissue Paper Products     273072843.0\n",
       "Acrylonitrile             265917000.0\n",
       "Cigarettes                238308000.0\n",
       "Polypropylene             224625666.0\n",
       "Cars                      215054000.0\n",
       "Name: EC_plant_usage, dtype: float64>"
      ]
     },
     "execution_count": 9,
     "metadata": {},
     "output_type": "execute_result"
    }
   ],
   "source": [
    "sector_tot_energy.head"
   ]
  },
  {
   "cell_type": "code",
   "execution_count": 10,
   "id": "0491fbf9",
   "metadata": {},
   "outputs": [
    {
     "data": {
      "image/png": "[encoded data removed]",
      "text/plain": [
       "<Figure size 432x288 with 1 Axes>"
      ]
     },
     "metadata": {
      "needs_background": "light"
     },
     "output_type": "display_data"
    },
    {
     "data": {
      "text/plain": [
       "<Figure size 432x288 with 0 Axes>"
      ]
     },
     "metadata": {},
     "output_type": "display_data"
    }
   ],
   "source": [
    "#Energy consumption  by Sector based on info until 2021\n",
    "sector_chart = sector_tot_energy.plot(x='sector', y='energy consumption', kind=\"bar\", title=\"Emissions by Sector\")\n",
    "sector_chart.set_xlabel(\"Sector\")\n",
    "sector_chart.set_ylabel(\"Total yearly electricity consumption kWh\")\n",
    "\n",
    "plt.show()\n",
    "plt.tight_layout()"
   ]
  },
  {
   "cell_type": "markdown",
   "id": "1526178d",
   "metadata": {},
   "source": [
    "4.0 Cleaning the dataset"
   ]
  },
  {
   "cell_type": "markdown",
   "id": "ed72910e",
   "metadata": {},
   "source": [
    "Drop unnecessary columns"
   ]
  },
  {
   "cell_type": "code",
   "execution_count": 11,
   "id": "6894e871",
   "metadata": {},
   "outputs": [],
   "source": [
    "df_train.drop(['ID','CENTER','SIC','NAICS','NUMARS','EC_plant_cost','ED_plant_cost','ED_plant_usage','EF_plant_cost','E2_plant_cost','E2_plant_usage','E3_plant_cost','E3_plant_usage','E4_plant_cost','E4_plant_usage','E5_plant_cost','E5_plant_usage','E6_plant_cost','E6_plant_usage','E7_plant_cost','E7_plant_usage','E8_plant_cost','E8_plant_usage','E9_plant_cost','E9_plant_usage','E10_plant_cost','E10_plant_usage','E11_plant_cost','E11_plant_usage','E12_plant_cost','E12_plant_usage','W0_plant_cost','W0_plant_usage','W1_plant_cost','W1_plant_usage','W2_plant_cost','W2_plant_usage','W3_plant_cost','W3_plant_usage','W4_plant_cost','W4_plant_usage','W5_plant_cost','W5_plant_usage','W6_plant_cost',\n",
    "               'W6_plant_usage', 'PRODUNITS'], axis=1, inplace= True )"
   ]
  },
  {
   "cell_type": "code",
   "execution_count": 12,
   "id": "1195815d",
   "metadata": {},
   "outputs": [
    {
     "data": {
      "text/plain": [
       "FY                 0\n",
       "STATE              0\n",
       "REGION             0\n",
       "SALES              0\n",
       "EMPLOYEES          0\n",
       "PLANT_AREA         0\n",
       "PRODUCTS           2\n",
       "PRODLEVEL         21\n",
       "PRODHOURS          0\n",
       "EC_plant_usage     0\n",
       "dtype: int64"
      ]
     },
     "execution_count": 12,
     "metadata": {},
     "output_type": "execute_result"
    }
   ],
   "source": [
    "#Check for remaining null values\n",
    "df_train.isna().sum(axis = 0)"
   ]
  },
  {
   "cell_type": "markdown",
   "id": "c73746d0",
   "metadata": {},
   "source": [
    "Drop Null Values (as less than 2%)"
   ]
  },
  {
   "cell_type": "code",
   "execution_count": 13,
   "id": "6222b56b",
   "metadata": {},
   "outputs": [],
   "source": [
    "df_train.dropna(inplace=True,axis=0)"
   ]
  },
  {
   "cell_type": "code",
   "execution_count": 14,
   "id": "46d68ed4",
   "metadata": {},
   "outputs": [
    {
     "data": {
      "text/plain": [
       "(2251, 10)"
      ]
     },
     "execution_count": 14,
     "metadata": {},
     "output_type": "execute_result"
    }
   ],
   "source": [
    "#Dataframe shape after cleaning\n",
    "df_train.shape"
   ]
  },
  {
   "cell_type": "markdown",
   "id": "299c2a3b",
   "metadata": {},
   "source": [
    "Analyse potential outliers"
   ]
  },
  {
   "cell_type": "code",
   "execution_count": 15,
   "id": "0ff3f4ed",
   "metadata": {},
   "outputs": [
    {
     "data": {
      "text/plain": [
       "<AxesSubplot:xlabel='EMPLOYEES'>"
      ]
     },
     "execution_count": 15,
     "metadata": {},
     "output_type": "execute_result"
    },
    {
     "data": {
      "image/png": "[encoded data removed]",
      "text/plain": [
       "<Figure size 432x288 with 1 Axes>"
      ]
     },
     "metadata": {
      "needs_background": "light"
     },
     "output_type": "display_data"
    }
   ],
   "source": [
    "sns.boxplot(x=df_train['EMPLOYEES'])"
   ]
  },
  {
   "cell_type": "code",
   "execution_count": 16,
   "id": "dd3a64bc",
   "metadata": {},
   "outputs": [
    {
     "data": {
      "text/plain": [
       "<AxesSubplot:xlabel='PLANT_AREA'>"
      ]
     },
     "execution_count": 16,
     "metadata": {},
     "output_type": "execute_result"
    },
    {
     "data": {
      "image/png": "[encoded data removed]",
      "text/plain": [
       "<Figure size 432x288 with 1 Axes>"
      ]
     },
     "metadata": {
      "needs_background": "light"
     },
     "output_type": "display_data"
    }
   ],
   "source": [
    "sns.boxplot(x=df_train['PLANT_AREA'])"
   ]
  },
  {
   "cell_type": "code",
   "execution_count": 17,
   "id": "97ee8a1f",
   "metadata": {},
   "outputs": [
    {
     "data": {
      "text/plain": [
       "<AxesSubplot:xlabel='SALES'>"
      ]
     },
     "execution_count": 17,
     "metadata": {},
     "output_type": "execute_result"
    },
    {
     "data": {
      "image/png": "[encoded data removed]",
      "text/plain": [
       "<Figure size 432x288 with 1 Axes>"
      ]
     },
     "metadata": {
      "needs_background": "light"
     },
     "output_type": "display_data"
    }
   ],
   "source": [
    "sns.boxplot(x=df_train['SALES'])"
   ]
  },
  {
   "cell_type": "markdown",
   "id": "f348a46a",
   "metadata": {},
   "source": [
    "Removing outliers"
   ]
  },
  {
   "cell_type": "code",
   "execution_count": 18,
   "id": "fbf8d66e",
   "metadata": {},
   "outputs": [],
   "source": [
    "# lets start by removing outliers\n",
    "\n",
    "# here we define the columns where we have identified there could be outliers\n",
    "numeric_columns = ['SALES', 'EMPLOYEES', 'PLANT_AREA', 'PRODHOURS','PRODLEVEL']\n",
    "\n",
    "\n",
    "\n",
    "\n",
    "# this function can be used on any dataset to return a list of index values for the outliers \n",
    "def get_outliers(data, columns):\n",
    "    # we create an empty list\n",
    "    outlier_idxs = []\n",
    "    for col in columns:\n",
    "        elements = data[col]\n",
    "        # we get the mean value for each column\n",
    "        mean = elements.mean()\n",
    "        # and the standard deviation of the column\n",
    "        sd = elements.std()\n",
    "        # we then get the index values of all values higher or lower than the mean +/- 2 standard deviations\n",
    "        outliers_mask = data[(data[col] > mean + 3*sd) | (data[col]  < mean  - 3*sd)].index\n",
    "        # and add those values to our list\n",
    "        outlier_idxs  += [x for x in outliers_mask]\n",
    "    return list(set(outlier_idxs))\n",
    "\n",
    "# we call the function we just created on the cookies dataset\n",
    "df_outliers = get_outliers(df_train, numeric_columns)\n",
    "\n",
    "# and drop those values from our feature and target values\n",
    "df_train= df_train.drop(df_outliers, axis = 0)\n"
   ]
  },
  {
   "cell_type": "code",
   "execution_count": 19,
   "id": "25dfe10c",
   "metadata": {},
   "outputs": [
    {
     "data": {
      "text/plain": [
       "(2218, 10)"
      ]
     },
     "execution_count": 19,
     "metadata": {},
     "output_type": "execute_result"
    }
   ],
   "source": [
    "#New shape of dataframe\n",
    "df_train.shape"
   ]
  },
  {
   "cell_type": "markdown",
   "id": "26ef8c3c",
   "metadata": {},
   "source": [
    "Deal with Categorical Data (States) - convert to numerical"
   ]
  },
  {
   "cell_type": "code",
   "execution_count": 20,
   "id": "ffcc6aeb",
   "metadata": {},
   "outputs": [
    {
     "data": {
      "text/plain": [
       "Northeast    886\n",
       "South        813\n",
       "West         442\n",
       "Midwest       77\n",
       "Name: REGION, dtype: int64"
      ]
     },
     "execution_count": 20,
     "metadata": {},
     "output_type": "execute_result"
    }
   ],
   "source": [
    "#Change categorical to numerical variables\n",
    "df_train['REGION'].value_counts()"
   ]
  },
  {
   "cell_type": "code",
   "execution_count": 21,
   "id": "703212e1",
   "metadata": {},
   "outputs": [],
   "source": [
    "region= [\"South\",\"Northeast\",\"West\", \"Midwest\"]\n",
    "df_train[region]= 0\n",
    "for region in region:\n",
    "    df_train[region] = np.where(df_train[\"REGION\"].str.contains(region) ,1,0)\n",
    "df_train.drop(\"REGION\", axis=1, inplace=True)"
   ]
  },
  {
   "cell_type": "code",
   "execution_count": 22,
   "id": "2974a8bc",
   "metadata": {},
   "outputs": [
    {
     "data": {
      "text/html": [
       "<div>\n",
       "<style scoped>\n",
       "    .dataframe tbody tr th:only-of-type {\n",
       "        vertical-align: middle;\n",
       "    }\n",
       "\n",
       "    .dataframe tbody tr th {\n",
       "        vertical-align: top;\n",
       "    }\n",
       "\n",
       "    .dataframe thead th {\n",
       "        text-align: right;\n",
       "    }\n",
       "</style>\n",
       "<table border=\"1\" class=\"dataframe\">\n",
       "  <thead>\n",
       "    <tr style=\"text-align: right;\">\n",
       "      <th></th>\n",
       "      <th>FY</th>\n",
       "      <th>STATE</th>\n",
       "      <th>SALES</th>\n",
       "      <th>EMPLOYEES</th>\n",
       "      <th>PLANT_AREA</th>\n",
       "      <th>PRODUCTS</th>\n",
       "      <th>PRODLEVEL</th>\n",
       "      <th>PRODHOURS</th>\n",
       "      <th>EC_plant_usage</th>\n",
       "      <th>South</th>\n",
       "      <th>Northeast</th>\n",
       "      <th>West</th>\n",
       "      <th>Midwest</th>\n",
       "    </tr>\n",
       "  </thead>\n",
       "  <tbody>\n",
       "    <tr>\n",
       "      <th>0</th>\n",
       "      <td>2014</td>\n",
       "      <td>TX</td>\n",
       "      <td>40000000</td>\n",
       "      <td>135</td>\n",
       "      <td>350000</td>\n",
       "      <td>Steel and plastic composite drums and containers</td>\n",
       "      <td>3720000.0</td>\n",
       "      <td>8544</td>\n",
       "      <td>7156669.0</td>\n",
       "      <td>1</td>\n",
       "      <td>0</td>\n",
       "      <td>0</td>\n",
       "      <td>0</td>\n",
       "    </tr>\n",
       "    <tr>\n",
       "      <th>1</th>\n",
       "      <td>2014</td>\n",
       "      <td>TX</td>\n",
       "      <td>13000000</td>\n",
       "      <td>118</td>\n",
       "      <td>80500</td>\n",
       "      <td>Mechanical springs</td>\n",
       "      <td>151630000.0</td>\n",
       "      <td>4250</td>\n",
       "      <td>2687750.0</td>\n",
       "      <td>1</td>\n",
       "      <td>0</td>\n",
       "      <td>0</td>\n",
       "      <td>0</td>\n",
       "    </tr>\n",
       "    <tr>\n",
       "      <th>2</th>\n",
       "      <td>2014</td>\n",
       "      <td>TX</td>\n",
       "      <td>150000000</td>\n",
       "      <td>260</td>\n",
       "      <td>265000</td>\n",
       "      <td>Automotive Chemicals</td>\n",
       "      <td>100000000.0</td>\n",
       "      <td>4884</td>\n",
       "      <td>3582624.0</td>\n",
       "      <td>1</td>\n",
       "      <td>0</td>\n",
       "      <td>0</td>\n",
       "      <td>0</td>\n",
       "    </tr>\n",
       "    <tr>\n",
       "      <th>3</th>\n",
       "      <td>2014</td>\n",
       "      <td>TX</td>\n",
       "      <td>95000000</td>\n",
       "      <td>200</td>\n",
       "      <td>149415</td>\n",
       "      <td>Geosynthetic lining products</td>\n",
       "      <td>132000000.0</td>\n",
       "      <td>8760</td>\n",
       "      <td>41074332.0</td>\n",
       "      <td>1</td>\n",
       "      <td>0</td>\n",
       "      <td>0</td>\n",
       "      <td>0</td>\n",
       "    </tr>\n",
       "    <tr>\n",
       "      <th>4</th>\n",
       "      <td>2014</td>\n",
       "      <td>UT</td>\n",
       "      <td>60000000</td>\n",
       "      <td>150</td>\n",
       "      <td>153500</td>\n",
       "      <td>Cast Iron Pipe</td>\n",
       "      <td>60000.0</td>\n",
       "      <td>2523</td>\n",
       "      <td>15084000.0</td>\n",
       "      <td>0</td>\n",
       "      <td>0</td>\n",
       "      <td>1</td>\n",
       "      <td>0</td>\n",
       "    </tr>\n",
       "    <tr>\n",
       "      <th>...</th>\n",
       "      <td>...</td>\n",
       "      <td>...</td>\n",
       "      <td>...</td>\n",
       "      <td>...</td>\n",
       "      <td>...</td>\n",
       "      <td>...</td>\n",
       "      <td>...</td>\n",
       "      <td>...</td>\n",
       "      <td>...</td>\n",
       "      <td>...</td>\n",
       "      <td>...</td>\n",
       "      <td>...</td>\n",
       "      <td>...</td>\n",
       "    </tr>\n",
       "    <tr>\n",
       "      <th>2269</th>\n",
       "      <td>2018</td>\n",
       "      <td>MD</td>\n",
       "      <td>12050000</td>\n",
       "      <td>16</td>\n",
       "      <td>850000</td>\n",
       "      <td>Water</td>\n",
       "      <td>4015000.0</td>\n",
       "      <td>8760</td>\n",
       "      <td>10608544.0</td>\n",
       "      <td>1</td>\n",
       "      <td>0</td>\n",
       "      <td>0</td>\n",
       "      <td>0</td>\n",
       "    </tr>\n",
       "    <tr>\n",
       "      <th>2270</th>\n",
       "      <td>2018</td>\n",
       "      <td>OH</td>\n",
       "      <td>30000000</td>\n",
       "      <td>100</td>\n",
       "      <td>250000</td>\n",
       "      <td>Snow removal equipment</td>\n",
       "      <td>168.0</td>\n",
       "      <td>3120</td>\n",
       "      <td>3280758.0</td>\n",
       "      <td>0</td>\n",
       "      <td>1</td>\n",
       "      <td>0</td>\n",
       "      <td>0</td>\n",
       "    </tr>\n",
       "    <tr>\n",
       "      <th>2271</th>\n",
       "      <td>2018</td>\n",
       "      <td>OH</td>\n",
       "      <td>20000000</td>\n",
       "      <td>125</td>\n",
       "      <td>111000</td>\n",
       "      <td>Thermoset Plastics</td>\n",
       "      <td>10000.0</td>\n",
       "      <td>7200</td>\n",
       "      <td>6236100.0</td>\n",
       "      <td>0</td>\n",
       "      <td>1</td>\n",
       "      <td>0</td>\n",
       "      <td>0</td>\n",
       "    </tr>\n",
       "    <tr>\n",
       "      <th>2272</th>\n",
       "      <td>2018</td>\n",
       "      <td>WV</td>\n",
       "      <td>2000000</td>\n",
       "      <td>22</td>\n",
       "      <td>28000</td>\n",
       "      <td>Electroplating</td>\n",
       "      <td>5200.0</td>\n",
       "      <td>2080</td>\n",
       "      <td>589925.0</td>\n",
       "      <td>1</td>\n",
       "      <td>0</td>\n",
       "      <td>0</td>\n",
       "      <td>0</td>\n",
       "    </tr>\n",
       "    <tr>\n",
       "      <th>2273</th>\n",
       "      <td>2018</td>\n",
       "      <td>WV</td>\n",
       "      <td>11000000</td>\n",
       "      <td>32</td>\n",
       "      <td>400000</td>\n",
       "      <td>Water</td>\n",
       "      <td>1006000.0</td>\n",
       "      <td>8760</td>\n",
       "      <td>3133980.0</td>\n",
       "      <td>1</td>\n",
       "      <td>0</td>\n",
       "      <td>0</td>\n",
       "      <td>0</td>\n",
       "    </tr>\n",
       "  </tbody>\n",
       "</table>\n",
       "<p>2218 rows × 13 columns</p>\n",
       "</div>"
      ],
      "text/plain": [
       "        FY STATE      SALES  EMPLOYEES  PLANT_AREA  \\\n",
       "0     2014    TX   40000000        135      350000   \n",
       "1     2014    TX   13000000        118       80500   \n",
       "2     2014    TX  150000000        260      265000   \n",
       "3     2014    TX   95000000        200      149415   \n",
       "4     2014    UT   60000000        150      153500   \n",
       "...    ...   ...        ...        ...         ...   \n",
       "2269  2018    MD   12050000         16      850000   \n",
       "2270  2018    OH   30000000        100      250000   \n",
       "2271  2018    OH   20000000        125      111000   \n",
       "2272  2018    WV    2000000         22       28000   \n",
       "2273  2018    WV   11000000         32      400000   \n",
       "\n",
       "                                              PRODUCTS    PRODLEVEL  \\\n",
       "0     Steel and plastic composite drums and containers    3720000.0   \n",
       "1                                   Mechanical springs  151630000.0   \n",
       "2                                 Automotive Chemicals  100000000.0   \n",
       "3                         Geosynthetic lining products  132000000.0   \n",
       "4                                       Cast Iron Pipe      60000.0   \n",
       "...                                                ...          ...   \n",
       "2269                                             Water    4015000.0   \n",
       "2270                            Snow removal equipment        168.0   \n",
       "2271                               Thermoset Plastics       10000.0   \n",
       "2272                                    Electroplating       5200.0   \n",
       "2273                                             Water    1006000.0   \n",
       "\n",
       "      PRODHOURS  EC_plant_usage  South  Northeast  West  Midwest  \n",
       "0          8544       7156669.0      1          0     0        0  \n",
       "1          4250       2687750.0      1          0     0        0  \n",
       "2          4884       3582624.0      1          0     0        0  \n",
       "3          8760      41074332.0      1          0     0        0  \n",
       "4          2523      15084000.0      0          0     1        0  \n",
       "...         ...             ...    ...        ...   ...      ...  \n",
       "2269       8760      10608544.0      1          0     0        0  \n",
       "2270       3120       3280758.0      0          1     0        0  \n",
       "2271       7200       6236100.0      0          1     0        0  \n",
       "2272       2080        589925.0      1          0     0        0  \n",
       "2273       8760       3133980.0      1          0     0        0  \n",
       "\n",
       "[2218 rows x 13 columns]"
      ]
     },
     "execution_count": 22,
     "metadata": {},
     "output_type": "execute_result"
    }
   ],
   "source": [
    "#New output\n",
    "df_train"
   ]
  },
  {
   "cell_type": "markdown",
   "id": "728de11c",
   "metadata": {},
   "source": [
    "Check for correlations"
   ]
  },
  {
   "cell_type": "code",
   "execution_count": 23,
   "id": "fe94b7cb",
   "metadata": {},
   "outputs": [
    {
     "data": {
      "image/png": "[encoded data removed]",
      "text/plain": [
       "<Figure size 1152x432 with 2 Axes>"
      ]
     },
     "metadata": {
      "needs_background": "light"
     },
     "output_type": "display_data"
    }
   ],
   "source": [
    "plt.figure(figsize=(16, 6))\n",
    "# define the mask to set the values in the upper triangle to True\n",
    "mask = np.triu(np.ones_like(df_train.corr(), dtype=bool))\n",
    "heatmap = sns.heatmap(df_train.corr(), mask=mask, vmin=-1, vmax=1, annot=True, cmap='BrBG')\n",
    "heatmap.set_title('Triangle Correlation Heatmap', fontdict={'fontsize':18}, pad=16);"
   ]
  },
  {
   "cell_type": "markdown",
   "id": "4f2fc902",
   "metadata": {},
   "source": [
    "Check for variations of independent/dependent variables"
   ]
  },
  {
   "cell_type": "code",
   "execution_count": 44,
   "id": "240d6639",
   "metadata": {},
   "outputs": [
    {
     "data": {
      "text/html": [
       "<div>\n",
       "<style scoped>\n",
       "    .dataframe tbody tr th:only-of-type {\n",
       "        vertical-align: middle;\n",
       "    }\n",
       "\n",
       "    .dataframe tbody tr th {\n",
       "        vertical-align: top;\n",
       "    }\n",
       "\n",
       "    .dataframe thead th {\n",
       "        text-align: right;\n",
       "    }\n",
       "</style>\n",
       "<table border=\"1\" class=\"dataframe\">\n",
       "  <thead>\n",
       "    <tr style=\"text-align: right;\">\n",
       "      <th></th>\n",
       "      <th>SALES</th>\n",
       "      <th>EMPLOYEES</th>\n",
       "      <th>PLANT_AREA</th>\n",
       "      <th>PRODHOURS</th>\n",
       "      <th>EC_plant_usage</th>\n",
       "      <th>South</th>\n",
       "      <th>Northeast</th>\n",
       "      <th>West</th>\n",
       "      <th>Midwest</th>\n",
       "    </tr>\n",
       "  </thead>\n",
       "  <tbody>\n",
       "    <tr>\n",
       "      <th>count</th>\n",
       "      <td>2.218000e+03</td>\n",
       "      <td>2218.000000</td>\n",
       "      <td>2.218000e+03</td>\n",
       "      <td>2218.000000</td>\n",
       "      <td>2.218000e+03</td>\n",
       "      <td>2218.000000</td>\n",
       "      <td>2218.000000</td>\n",
       "      <td>2218.000000</td>\n",
       "      <td>2218.000000</td>\n",
       "    </tr>\n",
       "    <tr>\n",
       "      <th>mean</th>\n",
       "      <td>5.886459e+07</td>\n",
       "      <td>158.757439</td>\n",
       "      <td>2.800732e+05</td>\n",
       "      <td>5802.225879</td>\n",
       "      <td>9.662189e+06</td>\n",
       "      <td>0.366546</td>\n",
       "      <td>0.399459</td>\n",
       "      <td>0.199279</td>\n",
       "      <td>0.034716</td>\n",
       "    </tr>\n",
       "    <tr>\n",
       "      <th>std</th>\n",
       "      <td>9.710663e+07</td>\n",
       "      <td>145.192556</td>\n",
       "      <td>7.664125e+05</td>\n",
       "      <td>2246.983139</td>\n",
       "      <td>2.181607e+07</td>\n",
       "      <td>0.481970</td>\n",
       "      <td>0.489898</td>\n",
       "      <td>0.399548</td>\n",
       "      <td>0.183101</td>\n",
       "    </tr>\n",
       "    <tr>\n",
       "      <th>min</th>\n",
       "      <td>8.000000e+04</td>\n",
       "      <td>2.000000</td>\n",
       "      <td>2.000000e+03</td>\n",
       "      <td>1500.000000</td>\n",
       "      <td>6.919400e+04</td>\n",
       "      <td>0.000000</td>\n",
       "      <td>0.000000</td>\n",
       "      <td>0.000000</td>\n",
       "      <td>0.000000</td>\n",
       "    </tr>\n",
       "    <tr>\n",
       "      <th>25%</th>\n",
       "      <td>1.200000e+07</td>\n",
       "      <td>60.000000</td>\n",
       "      <td>6.600000e+04</td>\n",
       "      <td>4133.750000</td>\n",
       "      <td>1.616754e+06</td>\n",
       "      <td>0.000000</td>\n",
       "      <td>0.000000</td>\n",
       "      <td>0.000000</td>\n",
       "      <td>0.000000</td>\n",
       "    </tr>\n",
       "    <tr>\n",
       "      <th>50%</th>\n",
       "      <td>3.000000e+07</td>\n",
       "      <td>110.000000</td>\n",
       "      <td>1.220000e+05</td>\n",
       "      <td>6024.000000</td>\n",
       "      <td>3.715482e+06</td>\n",
       "      <td>0.000000</td>\n",
       "      <td>0.000000</td>\n",
       "      <td>0.000000</td>\n",
       "      <td>0.000000</td>\n",
       "    </tr>\n",
       "    <tr>\n",
       "      <th>75%</th>\n",
       "      <td>7.000000e+07</td>\n",
       "      <td>206.750000</td>\n",
       "      <td>2.400000e+05</td>\n",
       "      <td>8064.000000</td>\n",
       "      <td>9.731841e+06</td>\n",
       "      <td>1.000000</td>\n",
       "      <td>1.000000</td>\n",
       "      <td>0.000000</td>\n",
       "      <td>0.000000</td>\n",
       "    </tr>\n",
       "    <tr>\n",
       "      <th>max</th>\n",
       "      <td>1.500000e+09</td>\n",
       "      <td>907.000000</td>\n",
       "      <td>1.337292e+07</td>\n",
       "      <td>8760.000000</td>\n",
       "      <td>4.246490e+08</td>\n",
       "      <td>1.000000</td>\n",
       "      <td>1.000000</td>\n",
       "      <td>1.000000</td>\n",
       "      <td>1.000000</td>\n",
       "    </tr>\n",
       "  </tbody>\n",
       "</table>\n",
       "</div>"
      ],
      "text/plain": [
       "              SALES    EMPLOYEES    PLANT_AREA    PRODHOURS  EC_plant_usage  \\\n",
       "count  2.218000e+03  2218.000000  2.218000e+03  2218.000000    2.218000e+03   \n",
       "mean   5.886459e+07   158.757439  2.800732e+05  5802.225879    9.662189e+06   \n",
       "std    9.710663e+07   145.192556  7.664125e+05  2246.983139    2.181607e+07   \n",
       "min    8.000000e+04     2.000000  2.000000e+03  1500.000000    6.919400e+04   \n",
       "25%    1.200000e+07    60.000000  6.600000e+04  4133.750000    1.616754e+06   \n",
       "50%    3.000000e+07   110.000000  1.220000e+05  6024.000000    3.715482e+06   \n",
       "75%    7.000000e+07   206.750000  2.400000e+05  8064.000000    9.731841e+06   \n",
       "max    1.500000e+09   907.000000  1.337292e+07  8760.000000    4.246490e+08   \n",
       "\n",
       "             South    Northeast         West      Midwest  \n",
       "count  2218.000000  2218.000000  2218.000000  2218.000000  \n",
       "mean      0.366546     0.399459     0.199279     0.034716  \n",
       "std       0.481970     0.489898     0.399548     0.183101  \n",
       "min       0.000000     0.000000     0.000000     0.000000  \n",
       "25%       0.000000     0.000000     0.000000     0.000000  \n",
       "50%       0.000000     0.000000     0.000000     0.000000  \n",
       "75%       1.000000     1.000000     0.000000     0.000000  \n",
       "max       1.000000     1.000000     1.000000     1.000000  "
      ]
     },
     "execution_count": 44,
     "metadata": {},
     "output_type": "execute_result"
    }
   ],
   "source": [
    "df_train.describe()"
   ]
  },
  {
   "cell_type": "markdown",
   "id": "4de5b75d",
   "metadata": {},
   "source": [
    "\n",
    "Drop last irrelevant columns"
   ]
  },
  {
   "cell_type": "code",
   "execution_count": 45,
   "id": "d26fea27",
   "metadata": {},
   "outputs": [
    {
     "ename": "KeyError",
     "evalue": "\"['FY' 'PRODLEVEL' 'STATE' 'PRODUCTS'] not found in axis\"",
     "output_type": "error",
     "traceback": [
      "\u001b[1;31m---------------------------------------------------------------------------\u001b[0m",
      "\u001b[1;31mKeyError\u001b[0m                                  Traceback (most recent call last)",
      "\u001b[1;32m<ipython-input-45-5a65f1a6b8ac>\u001b[0m in \u001b[0;36m<module>\u001b[1;34m\u001b[0m\n\u001b[1;32m----> 1\u001b[1;33m \u001b[0mdf_train\u001b[0m\u001b[1;33m.\u001b[0m\u001b[0mdrop\u001b[0m\u001b[1;33m(\u001b[0m\u001b[1;33m[\u001b[0m\u001b[1;34m'FY'\u001b[0m\u001b[1;33m,\u001b[0m\u001b[1;34m'PRODLEVEL'\u001b[0m\u001b[1;33m,\u001b[0m\u001b[1;34m'STATE'\u001b[0m\u001b[1;33m,\u001b[0m\u001b[1;34m'PRODUCTS'\u001b[0m\u001b[1;33m]\u001b[0m\u001b[1;33m,\u001b[0m \u001b[0maxis\u001b[0m\u001b[1;33m=\u001b[0m\u001b[1;36m1\u001b[0m\u001b[1;33m,\u001b[0m \u001b[0minplace\u001b[0m\u001b[1;33m=\u001b[0m \u001b[1;32mTrue\u001b[0m \u001b[1;33m)\u001b[0m\u001b[1;33m\u001b[0m\u001b[1;33m\u001b[0m\u001b[0m\n\u001b[0m",
      "\u001b[1;32m~\\Anaconda3\\lib\\site-packages\\pandas\\core\\frame.py\u001b[0m in \u001b[0;36mdrop\u001b[1;34m(self, labels, axis, index, columns, level, inplace, errors)\u001b[0m\n\u001b[0;32m   4306\u001b[0m                 \u001b[0mweight\u001b[0m  \u001b[1;36m1.0\u001b[0m     \u001b[1;36m0.8\u001b[0m\u001b[1;33m\u001b[0m\u001b[1;33m\u001b[0m\u001b[0m\n\u001b[0;32m   4307\u001b[0m         \"\"\"\n\u001b[1;32m-> 4308\u001b[1;33m         return super().drop(\n\u001b[0m\u001b[0;32m   4309\u001b[0m             \u001b[0mlabels\u001b[0m\u001b[1;33m=\u001b[0m\u001b[0mlabels\u001b[0m\u001b[1;33m,\u001b[0m\u001b[1;33m\u001b[0m\u001b[1;33m\u001b[0m\u001b[0m\n\u001b[0;32m   4310\u001b[0m             \u001b[0maxis\u001b[0m\u001b[1;33m=\u001b[0m\u001b[0maxis\u001b[0m\u001b[1;33m,\u001b[0m\u001b[1;33m\u001b[0m\u001b[1;33m\u001b[0m\u001b[0m\n",
      "\u001b[1;32m~\\Anaconda3\\lib\\site-packages\\pandas\\core\\generic.py\u001b[0m in \u001b[0;36mdrop\u001b[1;34m(self, labels, axis, index, columns, level, inplace, errors)\u001b[0m\n\u001b[0;32m   4151\u001b[0m         \u001b[1;32mfor\u001b[0m \u001b[0maxis\u001b[0m\u001b[1;33m,\u001b[0m \u001b[0mlabels\u001b[0m \u001b[1;32min\u001b[0m \u001b[0maxes\u001b[0m\u001b[1;33m.\u001b[0m\u001b[0mitems\u001b[0m\u001b[1;33m(\u001b[0m\u001b[1;33m)\u001b[0m\u001b[1;33m:\u001b[0m\u001b[1;33m\u001b[0m\u001b[1;33m\u001b[0m\u001b[0m\n\u001b[0;32m   4152\u001b[0m             \u001b[1;32mif\u001b[0m \u001b[0mlabels\u001b[0m \u001b[1;32mis\u001b[0m \u001b[1;32mnot\u001b[0m \u001b[1;32mNone\u001b[0m\u001b[1;33m:\u001b[0m\u001b[1;33m\u001b[0m\u001b[1;33m\u001b[0m\u001b[0m\n\u001b[1;32m-> 4153\u001b[1;33m                 \u001b[0mobj\u001b[0m \u001b[1;33m=\u001b[0m \u001b[0mobj\u001b[0m\u001b[1;33m.\u001b[0m\u001b[0m_drop_axis\u001b[0m\u001b[1;33m(\u001b[0m\u001b[0mlabels\u001b[0m\u001b[1;33m,\u001b[0m \u001b[0maxis\u001b[0m\u001b[1;33m,\u001b[0m \u001b[0mlevel\u001b[0m\u001b[1;33m=\u001b[0m\u001b[0mlevel\u001b[0m\u001b[1;33m,\u001b[0m \u001b[0merrors\u001b[0m\u001b[1;33m=\u001b[0m\u001b[0merrors\u001b[0m\u001b[1;33m)\u001b[0m\u001b[1;33m\u001b[0m\u001b[1;33m\u001b[0m\u001b[0m\n\u001b[0m\u001b[0;32m   4154\u001b[0m \u001b[1;33m\u001b[0m\u001b[0m\n\u001b[0;32m   4155\u001b[0m         \u001b[1;32mif\u001b[0m \u001b[0minplace\u001b[0m\u001b[1;33m:\u001b[0m\u001b[1;33m\u001b[0m\u001b[1;33m\u001b[0m\u001b[0m\n",
      "\u001b[1;32m~\\Anaconda3\\lib\\site-packages\\pandas\\core\\generic.py\u001b[0m in \u001b[0;36m_drop_axis\u001b[1;34m(self, labels, axis, level, errors)\u001b[0m\n\u001b[0;32m   4186\u001b[0m                 \u001b[0mnew_axis\u001b[0m \u001b[1;33m=\u001b[0m \u001b[0maxis\u001b[0m\u001b[1;33m.\u001b[0m\u001b[0mdrop\u001b[0m\u001b[1;33m(\u001b[0m\u001b[0mlabels\u001b[0m\u001b[1;33m,\u001b[0m \u001b[0mlevel\u001b[0m\u001b[1;33m=\u001b[0m\u001b[0mlevel\u001b[0m\u001b[1;33m,\u001b[0m \u001b[0merrors\u001b[0m\u001b[1;33m=\u001b[0m\u001b[0merrors\u001b[0m\u001b[1;33m)\u001b[0m\u001b[1;33m\u001b[0m\u001b[1;33m\u001b[0m\u001b[0m\n\u001b[0;32m   4187\u001b[0m             \u001b[1;32melse\u001b[0m\u001b[1;33m:\u001b[0m\u001b[1;33m\u001b[0m\u001b[1;33m\u001b[0m\u001b[0m\n\u001b[1;32m-> 4188\u001b[1;33m                 \u001b[0mnew_axis\u001b[0m \u001b[1;33m=\u001b[0m \u001b[0maxis\u001b[0m\u001b[1;33m.\u001b[0m\u001b[0mdrop\u001b[0m\u001b[1;33m(\u001b[0m\u001b[0mlabels\u001b[0m\u001b[1;33m,\u001b[0m \u001b[0merrors\u001b[0m\u001b[1;33m=\u001b[0m\u001b[0merrors\u001b[0m\u001b[1;33m)\u001b[0m\u001b[1;33m\u001b[0m\u001b[1;33m\u001b[0m\u001b[0m\n\u001b[0m\u001b[0;32m   4189\u001b[0m             \u001b[0mresult\u001b[0m \u001b[1;33m=\u001b[0m \u001b[0mself\u001b[0m\u001b[1;33m.\u001b[0m\u001b[0mreindex\u001b[0m\u001b[1;33m(\u001b[0m\u001b[1;33m**\u001b[0m\u001b[1;33m{\u001b[0m\u001b[0maxis_name\u001b[0m\u001b[1;33m:\u001b[0m \u001b[0mnew_axis\u001b[0m\u001b[1;33m}\u001b[0m\u001b[1;33m)\u001b[0m\u001b[1;33m\u001b[0m\u001b[1;33m\u001b[0m\u001b[0m\n\u001b[0;32m   4190\u001b[0m \u001b[1;33m\u001b[0m\u001b[0m\n",
      "\u001b[1;32m~\\Anaconda3\\lib\\site-packages\\pandas\\core\\indexes\\base.py\u001b[0m in \u001b[0;36mdrop\u001b[1;34m(self, labels, errors)\u001b[0m\n\u001b[0;32m   5589\u001b[0m         \u001b[1;32mif\u001b[0m \u001b[0mmask\u001b[0m\u001b[1;33m.\u001b[0m\u001b[0many\u001b[0m\u001b[1;33m(\u001b[0m\u001b[1;33m)\u001b[0m\u001b[1;33m:\u001b[0m\u001b[1;33m\u001b[0m\u001b[1;33m\u001b[0m\u001b[0m\n\u001b[0;32m   5590\u001b[0m             \u001b[1;32mif\u001b[0m \u001b[0merrors\u001b[0m \u001b[1;33m!=\u001b[0m \u001b[1;34m\"ignore\"\u001b[0m\u001b[1;33m:\u001b[0m\u001b[1;33m\u001b[0m\u001b[1;33m\u001b[0m\u001b[0m\n\u001b[1;32m-> 5591\u001b[1;33m                 \u001b[1;32mraise\u001b[0m \u001b[0mKeyError\u001b[0m\u001b[1;33m(\u001b[0m\u001b[1;34mf\"{labels[mask]} not found in axis\"\u001b[0m\u001b[1;33m)\u001b[0m\u001b[1;33m\u001b[0m\u001b[1;33m\u001b[0m\u001b[0m\n\u001b[0m\u001b[0;32m   5592\u001b[0m             \u001b[0mindexer\u001b[0m \u001b[1;33m=\u001b[0m \u001b[0mindexer\u001b[0m\u001b[1;33m[\u001b[0m\u001b[1;33m~\u001b[0m\u001b[0mmask\u001b[0m\u001b[1;33m]\u001b[0m\u001b[1;33m\u001b[0m\u001b[1;33m\u001b[0m\u001b[0m\n\u001b[0;32m   5593\u001b[0m         \u001b[1;32mreturn\u001b[0m \u001b[0mself\u001b[0m\u001b[1;33m.\u001b[0m\u001b[0mdelete\u001b[0m\u001b[1;33m(\u001b[0m\u001b[0mindexer\u001b[0m\u001b[1;33m)\u001b[0m\u001b[1;33m\u001b[0m\u001b[1;33m\u001b[0m\u001b[0m\n",
      "\u001b[1;31mKeyError\u001b[0m: \"['FY' 'PRODLEVEL' 'STATE' 'PRODUCTS'] not found in axis\""
     ]
    }
   ],
   "source": [
    "df_train.drop(['FY','PRODLEVEL','STATE','PRODUCTS'], axis=1, inplace= True )"
   ]
  },
  {
   "cell_type": "markdown",
   "id": "42e5e18c",
   "metadata": {},
   "source": [
    "5.0 Create Models"
   ]
  },
  {
   "cell_type": "code",
   "execution_count": null,
   "id": "e471606c",
   "metadata": {},
   "outputs": [],
   "source": [
    "#Define dependent / independent variables\n",
    "X = df_train.drop(\"EC_plant_usage\", axis=1)\n",
    "y = df_train[\"EC_plant_usage\"]"
   ]
  },
  {
   "cell_type": "code",
   "execution_count": 46,
   "id": "ea6d038e",
   "metadata": {},
   "outputs": [],
   "source": [
    "#Import new libraries\n",
    "from scipy import stats\n",
    "from sklearn.preprocessing import PolynomialFeatures\n",
    "from sklearn import linear_model\n",
    "import matplotlib.pyplot as plt\n",
    "from sklearn.model_selection import GridSearchCV,cross_validate\n",
    "import statsmodels.api as sm\n",
    "from sklearn.model_selection import train_test_split\n",
    "from sklearn.metrics import r2_score\n",
    "from sklearn.model_selection import cross_val_score, cross_val_predict\n",
    "from sklearn import metrics\n",
    "from sklearn.metrics import accuracy_score"
   ]
  },
  {
   "cell_type": "code",
   "execution_count": null,
   "id": "08a8dce1",
   "metadata": {},
   "outputs": [],
   "source": [
    "#Linear regression\n",
    "model = sm.OLS(y, X)\n",
    "results = model.fit()\n",
    "print(results.summary())\n",
    "\n"
   ]
  },
  {
   "cell_type": "markdown",
   "id": "f20ef82a",
   "metadata": {},
   "source": [
    "Test variable significance (Hypothesis testing)"
   ]
  },
  {
   "cell_type": "code",
   "execution_count": 47,
   "id": "4c82c02f",
   "metadata": {},
   "outputs": [
    {
     "name": "stdout",
     "output_type": "stream",
     "text": [
      "Ttest_1sampResult(statistic=28.548680110381884, pvalue=6.221647267787291e-153)\n",
      "Our zc score is: 1.96\n"
     ]
    }
   ],
   "source": [
    "import scipy.stats as stats\n",
    "zs = stats.ttest_1samp(df_train['SALES'], 0)\n",
    "print(zs)\n",
    "zc = stats.norm.ppf(1-(0.05/2))\n",
    "print(\"Our zc score is: {:.2f}\".format(zc))\n"
   ]
  },
  {
   "cell_type": "code",
   "execution_count": 48,
   "id": "33397c0b",
   "metadata": {},
   "outputs": [
    {
     "name": "stdout",
     "output_type": "stream",
     "text": [
      "Ttest_1sampResult(statistic=51.49564518365711, pvalue=0.0)\n",
      "Our zc score is: 1.96\n"
     ]
    }
   ],
   "source": [
    "import scipy.stats as stats\n",
    "zs = stats.ttest_1samp(df_train['EMPLOYEES'], 0)\n",
    "print(zs)\n",
    "zc = stats.norm.ppf(1-(0.05/2))\n",
    "print(\"Our zc score is: {:.2f}\".format(zc))"
   ]
  },
  {
   "cell_type": "code",
   "execution_count": 49,
   "id": "95414813",
   "metadata": {},
   "outputs": [
    {
     "name": "stdout",
     "output_type": "stream",
     "text": [
      "Ttest_1sampResult(statistic=17.210349584928597, pvalue=2.09992832919358e-62)\n",
      "Our zc score is: 1.96\n"
     ]
    }
   ],
   "source": [
    "import scipy.stats as stats\n",
    "zs = stats.ttest_1samp(df_train['PLANT_AREA'], 0)\n",
    "print(zs)\n",
    "zc = stats.norm.ppf(1-(0.05/2))\n",
    "print(\"Our zc score is: {:.2f}\".format(zc))"
   ]
  },
  {
   "cell_type": "code",
   "execution_count": 50,
   "id": "eef64242",
   "metadata": {},
   "outputs": [
    {
     "name": "stdout",
     "output_type": "stream",
     "text": [
      "Ttest_1sampResult(statistic=121.61176429372364, pvalue=0.0)\n",
      "Our zc score is: 1.96\n"
     ]
    }
   ],
   "source": [
    "import scipy.stats as stats\n",
    "zs = stats.ttest_1samp(df_train['PRODHOURS'], 0)\n",
    "print(zs)\n",
    "zc = stats.norm.ppf(1-(0.05/2))\n",
    "print(\"Our zc score is: {:.2f}\".format(zc))"
   ]
  },
  {
   "cell_type": "markdown",
   "id": "068f811d",
   "metadata": {},
   "source": [
    "Train Model"
   ]
  },
  {
   "cell_type": "code",
   "execution_count": 51,
   "id": "d7206739",
   "metadata": {},
   "outputs": [],
   "source": [
    "\n",
    "#we have a lot of observations, we will train the model with the 87.5% of the data\n",
    "X_train, X_test, y_train, y_test = train_test_split(X, y, test_size=0.125)"
   ]
  },
  {
   "cell_type": "code",
   "execution_count": 52,
   "id": "1c771df7",
   "metadata": {},
   "outputs": [
    {
     "name": "stdout",
     "output_type": "stream",
     "text": [
      "(1940, 8) (1940,)\n",
      "(278, 8) (278,)\n"
     ]
    }
   ],
   "source": [
    "# test/train set\n",
    "print(X_train.shape, y_train.shape)\n",
    "print(X_test.shape, y_test.shape) "
   ]
  },
  {
   "cell_type": "code",
   "execution_count": 53,
   "id": "fd880ce0",
   "metadata": {},
   "outputs": [],
   "source": [
    "# Define Linear Model\n",
    "lm = LinearRegression()\n"
   ]
  },
  {
   "cell_type": "code",
   "execution_count": 54,
   "id": "c1f4d490",
   "metadata": {},
   "outputs": [],
   "source": [
    "scores = cross_val_score(lm, X_train, y_train, cv = 15)"
   ]
  },
  {
   "cell_type": "code",
   "execution_count": 55,
   "id": "da5d2d1a",
   "metadata": {},
   "outputs": [
    {
     "name": "stdout",
     "output_type": "stream",
     "text": [
      "[ 0.20517227  0.55919737 -0.28471493  0.46268785  0.24430316  0.16860986\n",
      "  0.2168006   0.31805653 -0.92348514  0.2029921   0.05009987  0.41269823\n",
      "  0.29293631  0.33944492  0.11704644] 0.15878969647988542 0.3454077871469464\n"
     ]
    }
   ],
   "source": [
    "print(scores, np.mean(scores), np.std(scores))"
   ]
  },
  {
   "cell_type": "code",
   "execution_count": 56,
   "id": "e90ad11e",
   "metadata": {},
   "outputs": [
    {
     "data": {
      "text/plain": [
       "Text(0.5, 1.0, 'Error Distribution of Linear Regression')"
      ]
     },
     "execution_count": 56,
     "metadata": {},
     "output_type": "execute_result"
    },
    {
     "data": {
      "image/png": "[encoded data removed]",
      "text/plain": [
       "<Figure size 432x288 with 1 Axes>"
      ]
     },
     "metadata": {
      "needs_background": "light"
     },
     "output_type": "display_data"
    }
   ],
   "source": [
    "# Plot Error Distribution of Linear Regression\n",
    "y_pred = cross_val_predict(lm, X_test, y_test, cv = 15)     #y_test is needed here in predictions to get scores for each fold of cv\n",
    "\n",
    "diff = y_test - y_pred\n",
    "diff.hist(bins = 40)\n",
    "plt.title('Error Distribution of Linear Regression')\n",
    "\n"
   ]
  },
  {
   "cell_type": "code",
   "execution_count": 57,
   "id": "27f614db",
   "metadata": {},
   "outputs": [],
   "source": [
    "#Check accuracy\n",
    "#accuracy = accuracy_score(y_test, y_pred)"
   ]
  },
  {
   "cell_type": "code",
   "execution_count": 58,
   "id": "5a8c8626",
   "metadata": {},
   "outputs": [
    {
     "name": "stdout",
     "output_type": "stream",
     "text": [
      "RMSE: 21433473.4695803\n"
     ]
    }
   ],
   "source": [
    "print('RMSE:', np.sqrt(metrics.mean_squared_error(y_test, y_pred)))"
   ]
  },
  {
   "cell_type": "code",
   "execution_count": 59,
   "id": "2cbe1bd4",
   "metadata": {},
   "outputs": [],
   "source": [
    "#Polynomial regression\n",
    "poly_reg = PolynomialFeatures(degree=2)\n",
    "X_poly = poly_reg.fit_transform(X)\n",
    "pol_reg = LinearRegression()\n",
    "polyr=pol_reg.fit(X_poly, y)"
   ]
  },
  {
   "cell_type": "code",
   "execution_count": 60,
   "id": "dda00d05",
   "metadata": {},
   "outputs": [],
   "source": [
    "#Calculate scores\n",
    "scores2 = cross_val_score(polyr, X_train, y_train, cv = 16)"
   ]
  },
  {
   "cell_type": "code",
   "execution_count": 61,
   "id": "bc2c2359",
   "metadata": {},
   "outputs": [
    {
     "name": "stdout",
     "output_type": "stream",
     "text": [
      "[ 0.20925494  0.53658825  0.01393651  0.19877559  0.3456533   0.38740184\n",
      "  0.19031341  0.30523744 -0.68991539 -0.14025311  0.20553667 -0.25166263\n",
      "  0.61884842  0.22012762  0.24125045  0.1156775 ] 0.15878969647988542 0.3454077871469464\n"
     ]
    }
   ],
   "source": [
    "#Check scores for cvs\n",
    "print(scores2, np.mean(scores), np.std(scores))"
   ]
  },
  {
   "cell_type": "code",
   "execution_count": 62,
   "id": "a50a3bd9",
   "metadata": {},
   "outputs": [
    {
     "data": {
      "text/plain": [
       "Text(0.5, 1.0, 'Error Distribution of Polynomial Regression')"
      ]
     },
     "execution_count": 62,
     "metadata": {},
     "output_type": "execute_result"
    },
    {
     "data": {
      "image/png": "[encoded data removed]",
      "text/plain": [
       "<Figure size 432x288 with 1 Axes>"
      ]
     },
     "metadata": {
      "needs_background": "light"
     },
     "output_type": "display_data"
    }
   ],
   "source": [
    "y_pred2 = cross_val_predict(polyr, X_test, y_test, cv = 16)     #y_test is needed here in predictions to get scores for each fold of cv\n",
    "\n",
    "diff = y_test - y_pred2\n",
    "diff.hist(bins = 40)\n",
    "plt.title('Error Distribution of Polynomial Regression')\n"
   ]
  },
  {
   "cell_type": "code",
   "execution_count": null,
   "id": "b0c45cb6",
   "metadata": {},
   "outputs": [],
   "source": [
    "#The distribution of the errors follows quite closely a gaussian distribution. That suggests that our models are doing a good job in making predictions."
   ]
  },
  {
   "cell_type": "code",
   "execution_count": 63,
   "id": "7ea9cea5",
   "metadata": {},
   "outputs": [],
   "source": [
    "#Check accuracy\n",
    "#accuracy = accuracy_score(y_test, y_pred2)"
   ]
  },
  {
   "cell_type": "code",
   "execution_count": 64,
   "id": "54f2d81b",
   "metadata": {},
   "outputs": [
    {
     "name": "stdout",
     "output_type": "stream",
     "text": [
      "RMSE: 21483701.80568208\n"
     ]
    }
   ],
   "source": [
    "#Use RMSE for model evaluation\n",
    "print('RMSE:', np.sqrt(metrics.mean_squared_error(y_test, y_pred2)))"
   ]
  },
  {
   "cell_type": "code",
   "execution_count": 65,
   "id": "b59d3a67",
   "metadata": {},
   "outputs": [],
   "source": [
    "#Random Forest Regressor"
   ]
  },
  {
   "cell_type": "code",
   "execution_count": 66,
   "id": "4b946370",
   "metadata": {},
   "outputs": [],
   "source": [
    "from sklearn.ensemble import RandomForestRegressor\n",
    "from sklearn.feature_selection import RFE"
   ]
  },
  {
   "cell_type": "code",
   "execution_count": 67,
   "id": "d985cce3",
   "metadata": {},
   "outputs": [],
   "source": [
    "#Random Forest Regressor (Define Function: model performance)\n",
    "def model_performance_metric(y_train, y_pred_train, y_test, y_pred_test):\n",
    "    \"\"\" Calculates and returns the performance score between \n",
    "        true and predicted values based on the metric chosen. \"\"\"\n",
    "\n",
    "    R2_train = r2_score(y_train,y_pred_train)\n",
    "    R2_test  = r2_score(y_test,y_pred_test)\n",
    "\n",
    "    MSE_train = mean_squared_error(y_train,y_pred_train)\n",
    "    MSE_test  = mean_squared_error(y_test,y_pred_test)\n",
    "\n",
    "    RMSE_train = np.sqrt(MSE_train)\n",
    "    RMSE_test  = np.sqrt(MSE_test)\n",
    "\n",
    "    performance = pd.DataFrame({'Error_metric': ['RMSE','R2'], 'Train': [RMSE_train, R2_train], 'Test' : [RMSE_test, R2_test]})\n",
    "\n",
    "\n",
    "\n",
    "    pd.options.display.float_format = '{:.2f}'.format\n",
    "\n",
    "\n",
    "    df_train = pd.DataFrame({'Real_value': y_train, 'Predicted_value': y_pred_train})\n",
    "    df_test  = pd.DataFrame({'Real_value': y_test,  'PRedicted_value': y_pred_test})\n",
    "\n",
    "    return performance, df_train, df_test"
   ]
  },
  {
   "cell_type": "code",
   "execution_count": 68,
   "id": "caed07b2",
   "metadata": {},
   "outputs": [
    {
     "data": {
      "text/html": [
       "<div>\n",
       "<style scoped>\n",
       "    .dataframe tbody tr th:only-of-type {\n",
       "        vertical-align: middle;\n",
       "    }\n",
       "\n",
       "    .dataframe tbody tr th {\n",
       "        vertical-align: top;\n",
       "    }\n",
       "\n",
       "    .dataframe thead th {\n",
       "        text-align: right;\n",
       "    }\n",
       "</style>\n",
       "<table border=\"1\" class=\"dataframe\">\n",
       "  <thead>\n",
       "    <tr style=\"text-align: right;\">\n",
       "      <th></th>\n",
       "      <th>i</th>\n",
       "      <th>Error metric</th>\n",
       "      <th>Train</th>\n",
       "      <th>Test</th>\n",
       "    </tr>\n",
       "  </thead>\n",
       "  <tbody>\n",
       "    <tr>\n",
       "      <th>0</th>\n",
       "      <td>1</td>\n",
       "      <td>RMSE</td>\n",
       "      <td>19497923.48</td>\n",
       "      <td>21938224.36</td>\n",
       "    </tr>\n",
       "    <tr>\n",
       "      <th>1</th>\n",
       "      <td>1</td>\n",
       "      <td>R2</td>\n",
       "      <td>0.19</td>\n",
       "      <td>0.04</td>\n",
       "    </tr>\n",
       "    <tr>\n",
       "      <th>0</th>\n",
       "      <td>2</td>\n",
       "      <td>RMSE</td>\n",
       "      <td>16979780.36</td>\n",
       "      <td>22049800.17</td>\n",
       "    </tr>\n",
       "    <tr>\n",
       "      <th>1</th>\n",
       "      <td>2</td>\n",
       "      <td>R2</td>\n",
       "      <td>0.39</td>\n",
       "      <td>0.03</td>\n",
       "    </tr>\n",
       "    <tr>\n",
       "      <th>0</th>\n",
       "      <td>6</td>\n",
       "      <td>RMSE</td>\n",
       "      <td>10816781.03</td>\n",
       "      <td>22020960.62</td>\n",
       "    </tr>\n",
       "    <tr>\n",
       "      <th>1</th>\n",
       "      <td>6</td>\n",
       "      <td>R2</td>\n",
       "      <td>0.75</td>\n",
       "      <td>0.03</td>\n",
       "    </tr>\n",
       "    <tr>\n",
       "      <th>0</th>\n",
       "      <td>8</td>\n",
       "      <td>RMSE</td>\n",
       "      <td>8901952.15</td>\n",
       "      <td>22900786.84</td>\n",
       "    </tr>\n",
       "    <tr>\n",
       "      <th>1</th>\n",
       "      <td>8</td>\n",
       "      <td>R2</td>\n",
       "      <td>0.83</td>\n",
       "      <td>-0.05</td>\n",
       "    </tr>\n",
       "    <tr>\n",
       "      <th>0</th>\n",
       "      <td>10</td>\n",
       "      <td>RMSE</td>\n",
       "      <td>8179220.40</td>\n",
       "      <td>22267811.26</td>\n",
       "    </tr>\n",
       "    <tr>\n",
       "      <th>1</th>\n",
       "      <td>10</td>\n",
       "      <td>R2</td>\n",
       "      <td>0.86</td>\n",
       "      <td>0.01</td>\n",
       "    </tr>\n",
       "    <tr>\n",
       "      <th>0</th>\n",
       "      <td>12</td>\n",
       "      <td>RMSE</td>\n",
       "      <td>7070952.61</td>\n",
       "      <td>22196418.20</td>\n",
       "    </tr>\n",
       "    <tr>\n",
       "      <th>1</th>\n",
       "      <td>12</td>\n",
       "      <td>R2</td>\n",
       "      <td>0.89</td>\n",
       "      <td>0.02</td>\n",
       "    </tr>\n",
       "    <tr>\n",
       "      <th>0</th>\n",
       "      <td>15</td>\n",
       "      <td>RMSE</td>\n",
       "      <td>7351519.81</td>\n",
       "      <td>22209000.23</td>\n",
       "    </tr>\n",
       "    <tr>\n",
       "      <th>1</th>\n",
       "      <td>15</td>\n",
       "      <td>R2</td>\n",
       "      <td>0.89</td>\n",
       "      <td>0.02</td>\n",
       "    </tr>\n",
       "    <tr>\n",
       "      <th>0</th>\n",
       "      <td>17</td>\n",
       "      <td>RMSE</td>\n",
       "      <td>6863101.00</td>\n",
       "      <td>22475833.11</td>\n",
       "    </tr>\n",
       "    <tr>\n",
       "      <th>1</th>\n",
       "      <td>17</td>\n",
       "      <td>R2</td>\n",
       "      <td>0.90</td>\n",
       "      <td>-0.01</td>\n",
       "    </tr>\n",
       "  </tbody>\n",
       "</table>\n",
       "</div>"
      ],
      "text/plain": [
       "    i Error metric       Train        Test\n",
       "0   1         RMSE 19497923.48 21938224.36\n",
       "1   1           R2        0.19        0.04\n",
       "0   2         RMSE 16979780.36 22049800.17\n",
       "1   2           R2        0.39        0.03\n",
       "0   6         RMSE 10816781.03 22020960.62\n",
       "1   6           R2        0.75        0.03\n",
       "0   8         RMSE  8901952.15 22900786.84\n",
       "1   8           R2        0.83       -0.05\n",
       "0  10         RMSE  8179220.40 22267811.26\n",
       "1  10           R2        0.86        0.01\n",
       "0  12         RMSE  7070952.61 22196418.20\n",
       "1  12           R2        0.89        0.02\n",
       "0  15         RMSE  7351519.81 22209000.23\n",
       "1  15           R2        0.89        0.02\n",
       "0  17         RMSE  6863101.00 22475833.11\n",
       "1  17           R2        0.90       -0.01"
      ]
     },
     "execution_count": 68,
     "metadata": {},
     "output_type": "execute_result"
    }
   ],
   "source": [
    "max_depth_list = [1,2,6,8,10,12,15, 17]\n",
    "full = pd.DataFrame()\n",
    "\n",
    "rfr_models = {'i': []}\n",
    "\n",
    "for i in max_depth_list:\n",
    "    rfr = RandomForestRegressor(max_depth = i)\n",
    "    rfr.fit(X_train, y_train)\n",
    "\n",
    "    rfr_models['i'] = [i, rfr]\n",
    "    \n",
    "    y_pred_train = rfr.predict(X_train)\n",
    "    y_pred_test= rfr.predict(X_test)\n",
    "\n",
    "    performance_rfr, _, _ = model_performance_metric(y_train, y_pred_train, y_test, y_pred_test)\n",
    "    temp = pd.DataFrame({'i': [i]*2, 'Error metric': performance_rfr['Error_metric'], 'Train': performance_rfr['Train'],\n",
    "                        'Test': performance_rfr['Test']})\n",
    "    full = pd.concat([full,temp], axis=0)\n",
    "\n",
    "full"
   ]
  },
  {
   "cell_type": "code",
   "execution_count": 69,
   "id": "a07c3730",
   "metadata": {},
   "outputs": [],
   "source": [
    "#15 depth for randon forest looks guide good"
   ]
  },
  {
   "cell_type": "code",
   "execution_count": 70,
   "id": "c2e8100f",
   "metadata": {},
   "outputs": [],
   "source": [
    "#Checking for relevant features in Random Forest (RFE Test)"
   ]
  },
  {
   "cell_type": "code",
   "execution_count": 71,
   "id": "d502f72c",
   "metadata": {},
   "outputs": [
    {
     "name": "stderr",
     "output_type": "stream",
     "text": [
      "C:\\Users\\dodol\\Anaconda3\\lib\\site-packages\\sklearn\\utils\\validation.py:70: FutureWarning: Pass n_features_to_select=15 as keyword args. From version 1.0 (renaming of 0.25) passing these as positional arguments will result in an error\n",
      "  warnings.warn(f\"Pass {args_msg} as keyword args. From version \"\n"
     ]
    },
    {
     "name": "stdout",
     "output_type": "stream",
     "text": [
      "[ True  True  True  True  True  True  True  True]\n",
      "[1 1 1 1 1 1 1 1]\n"
     ]
    }
   ],
   "source": [
    "model = RandomForestRegressor()\n",
    "#Initializing RFE model\n",
    "rfe = RFE(model, 15)\n",
    "#Transforming data using RFE\n",
    "rfe.fit(X_train,y_train)  \n",
    "#Fitting the data to model\n",
    "#model.fit(X_rfe,y_train)\n",
    "print(rfe.support_)\n",
    "print(rfe.ranking_)"
   ]
  },
  {
   "cell_type": "code",
   "execution_count": 72,
   "id": "a8f27e00",
   "metadata": {},
   "outputs": [
    {
     "name": "stderr",
     "output_type": "stream",
     "text": [
      "C:\\Users\\dodol\\Anaconda3\\lib\\site-packages\\sklearn\\utils\\validation.py:70: FutureWarning: Pass n_features_to_select=15 as keyword args. From version 1.0 (renaming of 0.25) passing these as positional arguments will result in an error\n",
      "  warnings.warn(f\"Pass {args_msg} as keyword args. From version \"\n"
     ]
    },
    {
     "name": "stdout",
     "output_type": "stream",
     "text": [
      "Index(['SALES', 'EMPLOYEES', 'PLANT_AREA', 'PRODHOURS', 'South', 'Northeast',\n",
      "       'West', 'Midwest'],\n",
      "      dtype='object')\n"
     ]
    }
   ],
   "source": [
    "cols = list(X.columns)\n",
    "model = RandomForestRegressor()\n",
    "#Initializing RFE model\n",
    "rfe = RFE(model, 15)             \n",
    "#Transforming data using RFE\n",
    "X_rfe = rfe.fit_transform(X_train,y_train)  \n",
    "#Fitting the data to model\n",
    "model.fit(X_rfe,y_train)              \n",
    "temp = pd.Series(rfe.support_,index = cols)\n",
    "selected_features_rfe = temp[temp==True].index\n",
    "print(selected_features_rfe)"
   ]
  },
  {
   "cell_type": "code",
   "execution_count": 73,
   "id": "bbc14501",
   "metadata": {},
   "outputs": [],
   "source": [
    "#All selected features are relevant (even regions). "
   ]
  },
  {
   "cell_type": "markdown",
   "id": "bc983670",
   "metadata": {},
   "source": [
    "Stacking the models (with Random Forest)"
   ]
  },
  {
   "cell_type": "code",
   "execution_count": null,
   "id": "83c4cbdb",
   "metadata": {},
   "outputs": [],
   "source": [
    "X_train, X_test, y_train, y_test = train_test_split(X, y, test_size=0.125)\n",
    "\n",
    "#Let’s go ahead and select a subset of the most predictive features.\n",
    "from sklearn.feature_selection import SelectFromModel\n",
    "\n",
    "# Create a random forest classifier\n",
    "clf = RandomForestClassifier(n_estimators=10000, random_state=0, n_jobs=-1)\n",
    "\n",
    "# Train the classifier\n",
    "clf.fit(X_train, y_train)\n",
    "\n",
    "# Print the name and gini importance of each feature\n",
    "for feature in zip(feat_labels, clf.feature_importances_):\n",
    "    print(feature)\n"
   ]
  },
  {
   "cell_type": "code",
   "execution_count": null,
   "id": "cd84e460",
   "metadata": {},
   "outputs": [],
   "source": [
    "# Create a selector object that will use the random forest classifier to identify\n",
    "# features that have an importance of more than 0.15\n",
    "sfm = SelectFromModel(clf, threshold=0.15)\n",
    "\n",
    "# Train the selector\n",
    "sfm.fit(X_train, y_train)"
   ]
  },
  {
   "cell_type": "code",
   "execution_count": null,
   "id": "5c3e72fe",
   "metadata": {},
   "outputs": [],
   "source": [
    "# Transform the data to create a new dataset containing only the most important features\n",
    "# Note: We have to apply the transform to both the training X and test X data.\n",
    "X_important_train = sfm.transform(X_train)\n",
    "X_important_test = sfm.transform(X_test)\n",
    "\n",
    "\n",
    "\n"
   ]
  },
  {
   "cell_type": "code",
   "execution_count": null,
   "id": "f8896b0d",
   "metadata": {},
   "outputs": [],
   "source": [
    "# Create a new random forest classifier for the most important features\n",
    "clf_important = RandomForestClassifier(n_estimators=10000, random_state=0, n_jobs=-1)\n",
    "\n",
    "# Train the new classifier on the new dataset containing the most important features\n",
    "clf_important.fit(X_important_train, y_train)"
   ]
  },
  {
   "cell_type": "code",
   "execution_count": null,
   "id": "4572bd71",
   "metadata": {},
   "outputs": [],
   "source": [
    "# Train the Polynomial regression on the new dataset containing the most important features\n",
    "X_poly = poly_reg.fit_transform(X_important_train)\n",
    "pol_reg = LinearRegression()\n",
    "polyr=pol_reg.fit(X_poly, y_train)"
   ]
  },
  {
   "cell_type": "code",
   "execution_count": null,
   "id": "ba657bd2",
   "metadata": {},
   "outputs": [],
   "source": [
    "y_pred3 = cross_val_predict(polyr, X_Important_test, y_test, cv = 16) "
   ]
  },
  {
   "cell_type": "code",
   "execution_count": null,
   "id": "2f457c14",
   "metadata": {},
   "outputs": [],
   "source": [
    "#Use RMSE for model evaluation\n",
    "print('RMSE:', np.sqrt(metrics.mean_squared_error(y_test, y_pred3)))"
   ]
  },
  {
   "cell_type": "code",
   "execution_count": null,
   "id": "fca4fc4b",
   "metadata": {},
   "outputs": [],
   "source": [
    "# Train the Linear regression on the new dataset containing the most important features\n",
    "X_poly = poly_reg.fit_transform()\n",
    "linear_reg = LinearRegression()\n",
    "linear=linear_reg.fit(X_important_train, y_train)"
   ]
  },
  {
   "cell_type": "code",
   "execution_count": null,
   "id": "bac76c1d",
   "metadata": {},
   "outputs": [],
   "source": [
    "y_pred4 = cross_val_predict(linear, X_Important_test, y_test, cv = 16) "
   ]
  },
  {
   "cell_type": "code",
   "execution_count": null,
   "id": "fc191fa9",
   "metadata": {},
   "outputs": [],
   "source": [
    "#Use RMSE for model evaluation\n",
    "print('RMSE:', np.sqrt(metrics.mean_squared_error(y_test, y_pred4)))"
   ]
  }
 ],
 "metadata": {
  "kernelspec": {
   "display_name": "Python 3",
   "language": "python",
   "name": "python3"
  },
  "language_info": {
   "codemirror_mode": {
    "name": "ipython",
    "version": 3
   },
   "file_extension": ".py",
   "mimetype": "text/x-python",
   "name": "python",
   "nbconvert_exporter": "python",
   "pygments_lexer": "ipython3",
   "version": "3.8.8"
  }
 },
 "nbformat": 4,
 "nbformat_minor": 5
}
